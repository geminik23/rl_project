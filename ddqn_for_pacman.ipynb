{
 "cells": [
  {
   "cell_type": "markdown",
   "metadata": {},
   "source": [
    "# Double Dueling Deep Q-Newtork for Ms Pacman v0"
   ]
  },
  {
   "cell_type": "code",
   "execution_count": 17,
   "metadata": {},
   "outputs": [],
   "source": [
    "import gym\n",
    "import matplotlib.pyplot as plt\n",
    "import numpy as np\n",
    "import torch\n",
    "import torch.nn as nn\n",
    "from torch.optim import Adam\n",
    "from torchsummary import summary\n",
    "import os\n"
   ]
  },
  {
   "cell_type": "code",
   "execution_count": 2,
   "metadata": {},
   "outputs": [],
   "source": [
    "def select_device(device=''):\n",
    "    if device.lower() == 'cuda':\n",
    "        if not torch.cuda.is_available():\n",
    "            print (\"torch.cuda not available\")\n",
    "            return torch.device('cpu')    \n",
    "        else:\n",
    "            return torch.device('cuda:0')\n",
    "    if device.lower() == 'dml':\n",
    "        return torch.device('dml')\n",
    "    else:\n",
    "        return torch.device('cpu')"
   ]
  },
  {
   "cell_type": "code",
   "execution_count": 3,
   "metadata": {},
   "outputs": [],
   "source": [
    "env = gym.make('MsPacman-v0')"
   ]
  },
  {
   "cell_type": "code",
   "execution_count": 18,
   "metadata": {},
   "outputs": [],
   "source": [
    "AGENT_COLOR = np.array([210, 164, 74]).mean()\n",
    "N_ACTION = env.action_space.n\n",
    "N_EPISODE = 5000\n",
    "LEARNING_RATE = 0.001\n",
    "LAMBDA = .99\n",
    "UPDATE_TARGET_STEP = 1000\n",
    "BATCH_SIZE = 64\n",
    "MAX_STEP = 50000\n",
    "CAPACITY_BUFFER = 10000\n",
    "DEVICE = 'dml'\n",
    "\n",
    "skip_steps = 90  # waiting steps MsPacman-v0 "
   ]
  },
  {
   "cell_type": "code",
   "execution_count": 5,
   "metadata": {},
   "outputs": [],
   "source": [
    "def preprocess(state):\n",
    "    state = state[1:176:2, ::2,:].mean(axis=2) # downsample and to gray\n",
    "    state [ state==AGENT_COLOR] = 0\n",
    "    state = (state-128)\n",
    "    return state"
   ]
  },
  {
   "cell_type": "code",
   "execution_count": 6,
   "metadata": {},
   "outputs": [
    {
     "data": {
      "text/plain": [
       "<matplotlib.image.AxesImage at 0x1e4ca016640>"
      ]
     },
     "execution_count": 6,
     "metadata": {},
     "output_type": "execute_result"
    },
    {
     "data": {
      "image/png": "[encoded data removed]",
      "text/plain": [
       "<Figure size 432x288 with 1 Axes>"
      ]
     },
     "metadata": {
      "needs_background": "light"
     },
     "output_type": "display_data"
    }
   ],
   "source": [
    "obs = env.reset()\n",
    "state = preprocess(obs)\n",
    "plt.imshow(state, cmap='gray')"
   ]
  },
  {
   "cell_type": "code",
   "execution_count": 7,
   "metadata": {},
   "outputs": [],
   "source": [
    "#=====REPLAY BUFFER\n",
    "class ReplayBuffer:\n",
    "    def __init__(self, capacity, device):\n",
    "        self.capacity = capacity\n",
    "        self.size = 0\n",
    "        self._offset = 0\n",
    "        # 5 : (state, action, reward, new_state, is_done)\n",
    "        self.buffer = np.zeros(shape=(capacity, 5), dtype=np.ndarray)\n",
    "        self.device = device\n",
    "\n",
    "    def __len__(self):\n",
    "        return self.size\n",
    "\n",
    "    def add(self, experience:tuple):\n",
    "        \"\"\"\n",
    "        experience is tuple of ndarray\n",
    "        \"\"\"\n",
    "        self.buffer[self._offset] = experience\n",
    "        self._offset = (self._offset+1)%self.capacity\n",
    "        self.size = min(self.size+1, self.capacity)\n",
    "\n",
    "    def sample(self, batch_size):\n",
    "        \"\"\"\n",
    "        to torch.tensor\n",
    "        \"\"\"\n",
    "        s, a, r, ss, d = self._sample(batch_size)\n",
    "        s = torch.from_numpy(s).float().to(self.device)\n",
    "        a = torch.from_numpy(a).long().to(self.device)\n",
    "        r = torch.from_numpy(r).float().to(self.device)\n",
    "        ss = torch.from_numpy(ss).float().to(self.device)\n",
    "        d = torch.from_numpy(d).float().to(self.device)\n",
    "        return (s, a, r, ss, d)\n",
    "\n",
    "    def _sample(self, batch_size):\n",
    "        \"\"\"\n",
    "        get samples\n",
    "        \"\"\"\n",
    "        idxes = np.random.choice(self.size, batch_size, replace=False)\n",
    "        experiences = np.vstack(self.buffer[idxes, 0]), np.vstack(self.buffer[idxes, 1]), np.vstack(self.buffer[idxes, 2]), np.vstack(self.buffer[idxes, 3]), np.vstack(self.buffer[idxes, 4])\n",
    "        return experiences\n",
    "\n",
    "\n",
    "#=====Action Strategies\n",
    "class ExponentialDecayEGreedyStrategy:\n",
    "    def __init__(self, start_epsilon=1., end_epsilon=0.1, decay_steps=2000):\n",
    "        self.step = 0\n",
    "        self.start_e = start_epsilon\n",
    "        self.end_e = end_epsilon\n",
    "        self.decay_steps = decay_steps\n",
    "\n",
    "    def reset(self):\n",
    "        self.step = 0\n",
    "\n",
    "    def _epsilon(self):\n",
    "        i = self.step \n",
    "        self.step+=1\n",
    "        exp_e = self.start_e* np.power(0.005, (i / self.decay_steps))\n",
    "        return exp_e * (self.start_e- self.end_e) + self.end_e\n",
    "\n",
    "    def select_action(self, model, state):\n",
    "        with torch.no_grad(): \n",
    "            pred = model(state).cpu().detach().numpy()\n",
    "            action = np.argmax(pred) if np.random.rand() > self._epsilon() else np.random.randint(len(pred))\n",
    "        return action\n",
    "\n",
    "class GreedyActionStrategy:\n",
    "    def reset(self): pass\n",
    "\n",
    "    def select_action(self, model, state):\n",
    "        with torch.no_grad(): \n",
    "            pred = model(state).cpu().detach().numpy()\n",
    "            action = np.argmax(pred) \n",
    "        return action\n",
    "\n",
    "\n",
    "#=====Network\n",
    "class DuelingNetwork(nn.Module):\n",
    "    def __init__(self, output_dim):\n",
    "        super().__init__()\n",
    "        self.conv_layers = nn.Sequential(\n",
    "            # conv layers\n",
    "            nn.Conv2d(1, 32, 8, 4),\n",
    "            nn.ReLU(),\n",
    "            nn.Conv2d(32, 64, 4, 2),\n",
    "            nn.ReLU(),\n",
    "            nn.Conv2d(64, 64, 3, 1),\n",
    "            nn.ReLU(),\n",
    "            nn.Flatten(),\n",
    "        )\n",
    "        self.fc_layer = nn.Sequential(\n",
    "            # fc layers\n",
    "            nn.Linear(3072, 512),\n",
    "            nn.ReLU(),\n",
    "        )\n",
    "        self.value = nn.Linear(512, 1)\n",
    "        self.action = nn.Linear(512, output_dim)\n",
    "\n",
    "\n",
    "    def forward(self, state):\n",
    "        # x = self.preprocess_state(state)\n",
    "        x = self.conv_layers(state)\n",
    "        x = self.fc_layer(x)\n",
    "        a = self.action(a)\n",
    "        v = self.value(x)\n",
    "\n",
    "        # # dim of value ouptut is 1. need to expand\n",
    "        v = v.expand_as(a)\n",
    "        q = v + a - a.mean(1, keepdim=True).expand_as(a)\n",
    "        return q\n"
   ]
  },
  {
   "cell_type": "code",
   "execution_count": 29,
   "metadata": {},
   "outputs": [],
   "source": [
    "class DQNAgent:\n",
    "    def __init__(self, env, model_fn, model_arg, train_strategy, eval_strategy, device, skip_steps=0):\n",
    "        self.env = env\n",
    "        self.target = model_fn(*model_arg).to(device)\n",
    "        self.online = model_fn(*model_arg).to(device)\n",
    "        self.update_network()\n",
    "\n",
    "        self.train_strategy = train_strategy\n",
    "        self.eval_strategy = eval_strategy\n",
    "        self.batch = ReplayBuffer(CAPACITY_BUFFER, device)\n",
    "        self.device = device\n",
    "\n",
    "        self.game_skip = skip_steps\n",
    "\n",
    "    \n",
    "    def update_network(self):\n",
    "        \"\"\"\n",
    "        update the online network into target network\n",
    "        \"\"\"\n",
    "        self.target.load_state_dict(self.online.state_dict())\n",
    "\n",
    "    def optimize(self, experiences, optim):\n",
    "        with torch.no_grad():\n",
    "            states, actions, rewards, next_states, is_dones = experiences\n",
    "            ## double\n",
    "            max_a_index = self.online(self.preprocess_state(next_states)).detach().argmax(1)\n",
    "            max_a_q_value = self.target(self.preprocess_state(next_states)).gather(1, max_a_index.unsqueeze(1))\n",
    "            target_q_value = rewards + (LAMBDA* max_a_q_value * (1 - is_dones))\n",
    "\n",
    "        q_value = self.online(self.preprocess_state(states)).gather(1, actions)\n",
    "        # td_error = q_value -  target_q_value\n",
    "        optim.zero_grad()\n",
    "        value_loss = nn.MSELoss()(q_value, target_q_value)\n",
    "        value_loss.backward()\n",
    "        optim.step()\n",
    " \n",
    "\n",
    "    def preprocess_state(self, state): \n",
    "        \"\"\"\n",
    "        convert into the torch\n",
    "        \"\"\"\n",
    "        state = torch.tensor(state, device=self.device, dtype=torch.float32)\n",
    "        return state.unsqueeze(1)\n",
    "\n",
    "    def train(self, n_episode, optim_fn, lr):\n",
    "        optim = optim_fn(self.online.parameters(), lr = lr)\n",
    "        buffer = ReplayBuffer(CAPACITY_BUFFER, self.device)\n",
    "        import time\n",
    "        \n",
    "        start_time = time.time()\n",
    "\n",
    "        for e in range(n_episode):\n",
    "            state = preprocess(env.reset())\n",
    "            step_count = 0\n",
    "            # skip the waiting steps\n",
    "            for _ in range(self.game_skip):\n",
    "                new_state, reward, is_done, _ = self.env.step(0)\n",
    "                state = preprocess(new_state)\n",
    "\n",
    "            episode_total_reward = 0\n",
    "            while True:\n",
    "                action = self.train_strategy.select_action(self.online, state)\n",
    "                # get new state and reward from environment\n",
    "                new_state, reward, is_done, _ = self.env.step(action)\n",
    "                new_state = preprocess(new_state)\n",
    "\n",
    "                experience = (state, action, reward, new_state, is_done)\n",
    "                buffer.add(experience)\n",
    "\n",
    "                if len(buffer) > BATCH_SIZE:\n",
    "                    experiences = buffer.sample(BATCH_SIZE)\n",
    "                    self.optimize(experiences, optim)\n",
    "\n",
    "                    step_count += 1\n",
    "                    episode_reward += reward\n",
    "                    state = new_state\n",
    "\n",
    "                    if step_count % UPDATE_TARGET_STEP == 0:\n",
    "                        self.update_network()\n",
    "\n",
    "                if is_done or step_count>=MAX_STEP:\n",
    "                    # terminate the episode\n",
    "                    print('\\tepisode: {}/{}  | total reward : {:.3f} | elapsed time: {:.3f}'.format(e+1, n_episode, episode_total_reward, (time.time() - start_time))//60)\n",
    "                    break\n",
    "            pass\n",
    "            if e % 1000 == 0:\n",
    "                self.target.save('ddqn_pacman_{}.pth'.format(e))\n",
    "        pass\n",
    "\n",
    "    def save(self, filepath):\n",
    "        torch.save(self.target.state_dict(), filepath)\n",
    "\n",
    "    def load(self, filepath):\n",
    "        state_dict = torch.load(filepath)\n",
    "        self.target.load_state_dict(state_dict)\n",
    "        self.online.load_state_dict(state_dict)\n"
   ]
  },
  {
   "cell_type": "code",
   "execution_count": 30,
   "metadata": {},
   "outputs": [],
   "source": [
    "device = select_device('dml')\n",
    "# device = select_device('cuda')"
   ]
  },
  {
   "cell_type": "code",
   "execution_count": 31,
   "metadata": {},
   "outputs": [],
   "source": [
    "agent = DQNAgent(env, DuelingNetwork, (N_ACTION,), GreedyActionStrategy(), ExponentialDecayEGreedyStrategy(1, 0.1, 20000),device, skip_steps)"
   ]
  },
  {
   "cell_type": "code",
   "execution_count": 32,
   "metadata": {},
   "outputs": [
    {
     "ename": "AttributeError",
     "evalue": "'DuelingNetwork' object has no attribute 'device'",
     "output_type": "error",
     "traceback": [
      "\u001b[1;31m---------------------------------------------------------------------------\u001b[0m",
      "\u001b[1;31mAttributeError\u001b[0m                            Traceback (most recent call last)",
      "\u001b[1;32mc:\\Users\\gemin\\projects\\rl_project\\ddqn_for_pacman.ipynb Cell 12'\u001b[0m in \u001b[0;36m<module>\u001b[1;34m\u001b[0m\n\u001b[0;32m      <a href='vscode-notebook-cell://ssh-remote%2Bmmiq.hopto.org/c%3A/Users/gemin/projects/rl_project/ddqn_for_pacman.ipynb#ch0000010vscode-remote?line=0'>1</a>\u001b[0m \u001b[39m## TRAIN\u001b[39;00m\n\u001b[1;32m----> <a href='vscode-notebook-cell://ssh-remote%2Bmmiq.hopto.org/c%3A/Users/gemin/projects/rl_project/ddqn_for_pacman.ipynb#ch0000010vscode-remote?line=1'>2</a>\u001b[0m agent\u001b[39m.\u001b[39;49mtrain(N_EPISODE, Adam, LEARNING_RATE)\n",
      "\u001b[1;32mc:\\Users\\gemin\\projects\\rl_project\\ddqn_for_pacman.ipynb Cell 9'\u001b[0m in \u001b[0;36mDQNAgent.train\u001b[1;34m(self, n_episode, optim_fn, lr)\u001b[0m\n\u001b[0;32m     <a href='vscode-notebook-cell://ssh-remote%2Bmmiq.hopto.org/c%3A/Users/gemin/projects/rl_project/ddqn_for_pacman.ipynb#ch0000008vscode-remote?line=53'>54</a>\u001b[0m episode_total_reward \u001b[39m=\u001b[39m \u001b[39m0\u001b[39m\n\u001b[0;32m     <a href='vscode-notebook-cell://ssh-remote%2Bmmiq.hopto.org/c%3A/Users/gemin/projects/rl_project/ddqn_for_pacman.ipynb#ch0000008vscode-remote?line=54'>55</a>\u001b[0m \u001b[39mwhile\u001b[39;00m \u001b[39mTrue\u001b[39;00m:\n\u001b[1;32m---> <a href='vscode-notebook-cell://ssh-remote%2Bmmiq.hopto.org/c%3A/Users/gemin/projects/rl_project/ddqn_for_pacman.ipynb#ch0000008vscode-remote?line=55'>56</a>\u001b[0m     action \u001b[39m=\u001b[39m \u001b[39mself\u001b[39;49m\u001b[39m.\u001b[39;49mtrain_strategy\u001b[39m.\u001b[39;49mselect_action(\u001b[39mself\u001b[39;49m\u001b[39m.\u001b[39;49monline, state)\n\u001b[0;32m     <a href='vscode-notebook-cell://ssh-remote%2Bmmiq.hopto.org/c%3A/Users/gemin/projects/rl_project/ddqn_for_pacman.ipynb#ch0000008vscode-remote?line=56'>57</a>\u001b[0m     \u001b[39m# get new state and reward from environment\u001b[39;00m\n\u001b[0;32m     <a href='vscode-notebook-cell://ssh-remote%2Bmmiq.hopto.org/c%3A/Users/gemin/projects/rl_project/ddqn_for_pacman.ipynb#ch0000008vscode-remote?line=57'>58</a>\u001b[0m     new_state, reward, is_done, _ \u001b[39m=\u001b[39m \u001b[39mself\u001b[39m\u001b[39m.\u001b[39menv\u001b[39m.\u001b[39mstep(action)\n",
      "\u001b[1;32mc:\\Users\\gemin\\projects\\rl_project\\ddqn_for_pacman.ipynb Cell 8'\u001b[0m in \u001b[0;36mGreedyActionStrategy.select_action\u001b[1;34m(self, model, state)\u001b[0m\n\u001b[0;32m     <a href='vscode-notebook-cell://ssh-remote%2Bmmiq.hopto.org/c%3A/Users/gemin/projects/rl_project/ddqn_for_pacman.ipynb#ch0000007vscode-remote?line=68'>69</a>\u001b[0m \u001b[39mdef\u001b[39;00m \u001b[39mselect_action\u001b[39m(\u001b[39mself\u001b[39m, model, state):\n\u001b[0;32m     <a href='vscode-notebook-cell://ssh-remote%2Bmmiq.hopto.org/c%3A/Users/gemin/projects/rl_project/ddqn_for_pacman.ipynb#ch0000007vscode-remote?line=69'>70</a>\u001b[0m     \u001b[39mwith\u001b[39;00m torch\u001b[39m.\u001b[39mno_grad(): \n\u001b[1;32m---> <a href='vscode-notebook-cell://ssh-remote%2Bmmiq.hopto.org/c%3A/Users/gemin/projects/rl_project/ddqn_for_pacman.ipynb#ch0000007vscode-remote?line=70'>71</a>\u001b[0m         pred \u001b[39m=\u001b[39m model(state)\u001b[39m.\u001b[39mcpu()\u001b[39m.\u001b[39mdetach()\u001b[39m.\u001b[39mnumpy()\n\u001b[0;32m     <a href='vscode-notebook-cell://ssh-remote%2Bmmiq.hopto.org/c%3A/Users/gemin/projects/rl_project/ddqn_for_pacman.ipynb#ch0000007vscode-remote?line=71'>72</a>\u001b[0m         action \u001b[39m=\u001b[39m np\u001b[39m.\u001b[39margmax(pred) \n\u001b[0;32m     <a href='vscode-notebook-cell://ssh-remote%2Bmmiq.hopto.org/c%3A/Users/gemin/projects/rl_project/ddqn_for_pacman.ipynb#ch0000007vscode-remote?line=72'>73</a>\u001b[0m     \u001b[39mreturn\u001b[39;00m action\n",
      "File \u001b[1;32m~\\AppData\\Local\\Programs\\Python\\Python38\\lib\\site-packages\\torch\\nn\\modules\\module.py:889\u001b[0m, in \u001b[0;36mModule._call_impl\u001b[1;34m(self, *input, **kwargs)\u001b[0m\n\u001b[0;32m    <a href='file:///~/AppData/Local/Programs/Python/Python38/lib/site-packages/torch/nn/modules/module.py?line=886'>887</a>\u001b[0m     result \u001b[39m=\u001b[39m \u001b[39mself\u001b[39m\u001b[39m.\u001b[39m_slow_forward(\u001b[39m*\u001b[39m\u001b[39minput\u001b[39m, \u001b[39m*\u001b[39m\u001b[39m*\u001b[39mkwargs)\n\u001b[0;32m    <a href='file:///~/AppData/Local/Programs/Python/Python38/lib/site-packages/torch/nn/modules/module.py?line=887'>888</a>\u001b[0m \u001b[39melse\u001b[39;00m:\n\u001b[1;32m--> <a href='file:///~/AppData/Local/Programs/Python/Python38/lib/site-packages/torch/nn/modules/module.py?line=888'>889</a>\u001b[0m     result \u001b[39m=\u001b[39m \u001b[39mself\u001b[39;49m\u001b[39m.\u001b[39;49mforward(\u001b[39m*\u001b[39;49m\u001b[39minput\u001b[39;49m, \u001b[39m*\u001b[39;49m\u001b[39m*\u001b[39;49mkwargs)\n\u001b[0;32m    <a href='file:///~/AppData/Local/Programs/Python/Python38/lib/site-packages/torch/nn/modules/module.py?line=889'>890</a>\u001b[0m \u001b[39mfor\u001b[39;00m hook \u001b[39min\u001b[39;00m itertools\u001b[39m.\u001b[39mchain(\n\u001b[0;32m    <a href='file:///~/AppData/Local/Programs/Python/Python38/lib/site-packages/torch/nn/modules/module.py?line=890'>891</a>\u001b[0m         _global_forward_hooks\u001b[39m.\u001b[39mvalues(),\n\u001b[0;32m    <a href='file:///~/AppData/Local/Programs/Python/Python38/lib/site-packages/torch/nn/modules/module.py?line=891'>892</a>\u001b[0m         \u001b[39mself\u001b[39m\u001b[39m.\u001b[39m_forward_hooks\u001b[39m.\u001b[39mvalues()):\n\u001b[0;32m    <a href='file:///~/AppData/Local/Programs/Python/Python38/lib/site-packages/torch/nn/modules/module.py?line=892'>893</a>\u001b[0m     hook_result \u001b[39m=\u001b[39m hook(\u001b[39mself\u001b[39m, \u001b[39minput\u001b[39m, result)\n",
      "\u001b[1;32mc:\\Users\\gemin\\projects\\rl_project\\ddqn_for_pacman.ipynb Cell 8'\u001b[0m in \u001b[0;36mDuelingNetwork.forward\u001b[1;34m(self, state)\u001b[0m\n\u001b[0;32m    <a href='vscode-notebook-cell://ssh-remote%2Bmmiq.hopto.org/c%3A/Users/gemin/projects/rl_project/ddqn_for_pacman.ipynb#ch0000007vscode-remote?line=104'>105</a>\u001b[0m \u001b[39mdef\u001b[39;00m \u001b[39mforward\u001b[39m(\u001b[39mself\u001b[39m, state):\n\u001b[1;32m--> <a href='vscode-notebook-cell://ssh-remote%2Bmmiq.hopto.org/c%3A/Users/gemin/projects/rl_project/ddqn_for_pacman.ipynb#ch0000007vscode-remote?line=105'>106</a>\u001b[0m     x \u001b[39m=\u001b[39m \u001b[39mself\u001b[39;49m\u001b[39m.\u001b[39;49mpreprocess_state(state)\n\u001b[0;32m    <a href='vscode-notebook-cell://ssh-remote%2Bmmiq.hopto.org/c%3A/Users/gemin/projects/rl_project/ddqn_for_pacman.ipynb#ch0000007vscode-remote?line=106'>107</a>\u001b[0m     x \u001b[39m=\u001b[39m \u001b[39mself\u001b[39m\u001b[39m.\u001b[39mconv_layers(x)\n\u001b[0;32m    <a href='vscode-notebook-cell://ssh-remote%2Bmmiq.hopto.org/c%3A/Users/gemin/projects/rl_project/ddqn_for_pacman.ipynb#ch0000007vscode-remote?line=107'>108</a>\u001b[0m     x \u001b[39m=\u001b[39m \u001b[39mself\u001b[39m\u001b[39m.\u001b[39mfc_layer(x)\n",
      "\u001b[1;32mc:\\Users\\gemin\\projects\\rl_project\\ddqn_for_pacman.ipynb Cell 8'\u001b[0m in \u001b[0;36mDuelingNetwork.preprocess_state\u001b[1;34m(self, state)\u001b[0m\n\u001b[0;32m     <a href='vscode-notebook-cell://ssh-remote%2Bmmiq.hopto.org/c%3A/Users/gemin/projects/rl_project/ddqn_for_pacman.ipynb#ch0000007vscode-remote?line=97'>98</a>\u001b[0m \u001b[39mdef\u001b[39;00m \u001b[39mpreprocess_state\u001b[39m(\u001b[39mself\u001b[39m, state): \n\u001b[0;32m     <a href='vscode-notebook-cell://ssh-remote%2Bmmiq.hopto.org/c%3A/Users/gemin/projects/rl_project/ddqn_for_pacman.ipynb#ch0000007vscode-remote?line=98'>99</a>\u001b[0m     \u001b[39m\"\"\"\u001b[39;00m\n\u001b[0;32m    <a href='vscode-notebook-cell://ssh-remote%2Bmmiq.hopto.org/c%3A/Users/gemin/projects/rl_project/ddqn_for_pacman.ipynb#ch0000007vscode-remote?line=99'>100</a>\u001b[0m \u001b[39m    convert into the torch\u001b[39;00m\n\u001b[0;32m    <a href='vscode-notebook-cell://ssh-remote%2Bmmiq.hopto.org/c%3A/Users/gemin/projects/rl_project/ddqn_for_pacman.ipynb#ch0000007vscode-remote?line=100'>101</a>\u001b[0m \u001b[39m    \"\"\"\u001b[39;00m\n\u001b[1;32m--> <a href='vscode-notebook-cell://ssh-remote%2Bmmiq.hopto.org/c%3A/Users/gemin/projects/rl_project/ddqn_for_pacman.ipynb#ch0000007vscode-remote?line=101'>102</a>\u001b[0m     state \u001b[39m=\u001b[39m torch\u001b[39m.\u001b[39mtensor(state, device\u001b[39m=\u001b[39m\u001b[39mself\u001b[39;49m\u001b[39m.\u001b[39;49mdevice, dtype\u001b[39m=\u001b[39mtorch\u001b[39m.\u001b[39mfloat32)\n\u001b[0;32m    <a href='vscode-notebook-cell://ssh-remote%2Bmmiq.hopto.org/c%3A/Users/gemin/projects/rl_project/ddqn_for_pacman.ipynb#ch0000007vscode-remote?line=102'>103</a>\u001b[0m     \u001b[39mreturn\u001b[39;00m state\u001b[39m.\u001b[39munsqueeze(\u001b[39m0\u001b[39m)\n",
      "File \u001b[1;32m~\\AppData\\Local\\Programs\\Python\\Python38\\lib\\site-packages\\torch\\nn\\modules\\module.py:947\u001b[0m, in \u001b[0;36mModule.__getattr__\u001b[1;34m(self, name)\u001b[0m\n\u001b[0;32m    <a href='file:///~/AppData/Local/Programs/Python/Python38/lib/site-packages/torch/nn/modules/module.py?line=944'>945</a>\u001b[0m     \u001b[39mif\u001b[39;00m name \u001b[39min\u001b[39;00m modules:\n\u001b[0;32m    <a href='file:///~/AppData/Local/Programs/Python/Python38/lib/site-packages/torch/nn/modules/module.py?line=945'>946</a>\u001b[0m         \u001b[39mreturn\u001b[39;00m modules[name]\n\u001b[1;32m--> <a href='file:///~/AppData/Local/Programs/Python/Python38/lib/site-packages/torch/nn/modules/module.py?line=946'>947</a>\u001b[0m \u001b[39mraise\u001b[39;00m \u001b[39mAttributeError\u001b[39;00m(\u001b[39m\"\u001b[39m\u001b[39m'\u001b[39m\u001b[39m{}\u001b[39;00m\u001b[39m'\u001b[39m\u001b[39m object has no attribute \u001b[39m\u001b[39m'\u001b[39m\u001b[39m{}\u001b[39;00m\u001b[39m'\u001b[39m\u001b[39m\"\u001b[39m\u001b[39m.\u001b[39mformat(\n\u001b[0;32m    <a href='file:///~/AppData/Local/Programs/Python/Python38/lib/site-packages/torch/nn/modules/module.py?line=947'>948</a>\u001b[0m     \u001b[39mtype\u001b[39m(\u001b[39mself\u001b[39m)\u001b[39m.\u001b[39m\u001b[39m__name__\u001b[39m, name))\n",
      "\u001b[1;31mAttributeError\u001b[0m: 'DuelingNetwork' object has no attribute 'device'"
     ]
    }
   ],
   "source": [
    "## TRAIN\n",
    "agent.train(N_EPISODE, Adam, LEARNING_RATE)"
   ]
  },
  {
   "cell_type": "code",
   "execution_count": null,
   "metadata": {},
   "outputs": [],
   "source": []
  }
 ],
 "metadata": {
  "interpreter": {
   "hash": "11efdac35326a2c6ff69b89a022a9131f2aa29ff09d9e07ca1bfcf72d0b454e5"
  },
  "kernelspec": {
   "display_name": "Python 3.8.10 64-bit",
   "language": "python",
   "name": "python3"
  },
  "language_info": {
   "codemirror_mode": {
    "name": "ipython",
    "version": 3
   },
   "file_extension": ".py",
   "mimetype": "text/x-python",
   "name": "python",
   "nbconvert_exporter": "python",
   "pygments_lexer": "ipython3",
   "version": "3.8.10"
  },
  "orig_nbformat": 4
 },
 "nbformat": 4,
 "nbformat_minor": 2
}
